Ejercicio 
Aplicar las operaciones aritméticas básicas sobre objetos Series.

Solución:


import pandas as pd

serie1 = pd.Series([1, 2, 3, 4, 5])
serie2 = pd.Series([9, 8, 7, 6, 5])

serie1 + serie2

0    10
1    10
2    10
3    10
4    10
dtype: int64

serie1 - serie2

0   -8
1   -6
2   -4
3   -2
4    0
dtype: int64
:serie1 * serie2
Out[19]:
0     9
1    16
2    21
3    24
4    25
dtype: int64
I
serie1 / serie2

0    0.111111
1    0.250000
2    0.428571
3    0.666667
4    1.000000
dtype: float64
